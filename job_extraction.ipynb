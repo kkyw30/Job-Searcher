{
 "cells": [
  {
   "cell_type": "code",
   "execution_count": null,
   "metadata": {},
   "outputs": [],
   "source": [
    "import spacy \n",
    "from spacy.lang.en import English \n",
    "from spacy.pipeline import EntityRuler \n",
    "import re \n",
    "import json "
   ]
  },
  {
   "cell_type": "markdown",
   "metadata": {},
   "source": [
    "**These are the things we want to be able to do**\n",
    "-Extract the name of a job \n",
    "-Extract the location of a job listing\n",
    "-Extract salary information of the job listing \n",
    "-Extract the job type of the job listing (full time, part-time, internship)\n",
    "-Extract the preferred qualifications of the job listing \n",
    "-Extract the responsibilities of the job listing (may return None if no responsibilities listed)\n",
    "-Summarize the job description of the job listing \n",
    "-Find perks (healthcare benefits, flexible work hours, etc.)--may return None\n",
    "-List all jobs of certain type (e.g. software) based on a user's input "
   ]
  },
  {
   "cell_type": "code",
   "execution_count": null,
   "metadata": {},
   "outputs": [],
   "source": [
    "nlp = spacy.load(\"en_core_web_sm\") \n",
    "ruler = nlp.add_pipe(\"entity_ruler\") \n",
    "ruler.initialize(lambda: [], nlp=nlp) "
   ]
  },
  {
   "cell_type": "code",
   "execution_count": null,
   "metadata": {},
   "outputs": [],
   "source": [
    "# extract job title and location directly from json file \n",
    "def find_job_title(job_dict):\n",
    "    return job_dict['job title']\n",
    "\n",
    "def find_location(job_dict):\n",
    "    return job_dict['location']"
   ]
  }
 ],
 "metadata": {
  "kernelspec": {
   "display_name": "Python 3.9.13 ('searcher1': venv)",
   "language": "python",
   "name": "python3"
  },
  "language_info": {
   "name": "python",
   "version": "3.9.13"
  },
  "orig_nbformat": 4,
  "vscode": {
   "interpreter": {
    "hash": "166b3915dda7324579696ffd9d788eb3a3c51d0230670e493b2b8984d18f718f"
   }
  }
 },
 "nbformat": 4,
 "nbformat_minor": 2
}
